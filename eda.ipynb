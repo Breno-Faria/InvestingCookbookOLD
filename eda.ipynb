{
 "cells": [
  {
   "cell_type": "code",
   "execution_count": 2,
   "metadata": {
    "collapsed": true
   },
   "outputs": [],
   "source": [
    "import pandas as pd\n",
    "import numpy as np\n",
    "import matplotlib.pyplot as plt"
   ]
  },
  {
   "cell_type": "code",
   "execution_count": 3,
   "outputs": [
    {
     "data": {
      "text/plain": "                      TimeStamp                TimeStampEpoch      Direction  \\\n0 2023-01-06 09:28:00.011058962 2023-01-06 14:28:00.011058962  NBFToExchange   \n1 2023-01-06 09:28:00.011081372 2023-01-06 14:28:00.011081372  NBFToExchange   \n2 2023-01-06 09:28:00.011117286 2023-01-06 14:28:00.011117286  ExchangeToNBF   \n3 2023-01-06 09:28:00.011125452 2023-01-06 14:28:00.011125452  NBFToExchange   \n4 2023-01-06 09:28:00.011129285 2023-01-06 14:28:00.011129285  NBFToExchange   \n\n                                OrderID           MessageType Symbol  \\\n0  b963bbc8-9283-11ed-9ad4-047c16291a22       NewOrderRequest  OA14Y   \n1  b963bbc9-9283-11ed-8b08-047c16291a22       NewOrderRequest  OOOTO   \n2  b963bbc8-9283-11ed-9ad4-047c16291a22  NewOrderAcknowledged  OA14Y   \n3  b963bbca-9283-11ed-b19f-047c16291a22         CancelRequest  OA14Y   \n4  b963bbcb-9283-11ed-aba1-047c16291a22       NewOrderRequest  NQGAH   \n\n   OrderPrice Exchange  \n0       61.56      TSX  \n1       69.37      TSX  \n2       61.56      TSX  \n3         NaN      TSX  \n4       73.20      TSX  ",
      "text/html": "<div>\n<style scoped>\n    .dataframe tbody tr th:only-of-type {\n        vertical-align: middle;\n    }\n\n    .dataframe tbody tr th {\n        vertical-align: top;\n    }\n\n    .dataframe thead th {\n        text-align: right;\n    }\n</style>\n<table border=\"1\" class=\"dataframe\">\n  <thead>\n    <tr style=\"text-align: right;\">\n      <th></th>\n      <th>TimeStamp</th>\n      <th>TimeStampEpoch</th>\n      <th>Direction</th>\n      <th>OrderID</th>\n      <th>MessageType</th>\n      <th>Symbol</th>\n      <th>OrderPrice</th>\n      <th>Exchange</th>\n    </tr>\n  </thead>\n  <tbody>\n    <tr>\n      <th>0</th>\n      <td>2023-01-06 09:28:00.011058962</td>\n      <td>2023-01-06 14:28:00.011058962</td>\n      <td>NBFToExchange</td>\n      <td>b963bbc8-9283-11ed-9ad4-047c16291a22</td>\n      <td>NewOrderRequest</td>\n      <td>OA14Y</td>\n      <td>61.56</td>\n      <td>TSX</td>\n    </tr>\n    <tr>\n      <th>1</th>\n      <td>2023-01-06 09:28:00.011081372</td>\n      <td>2023-01-06 14:28:00.011081372</td>\n      <td>NBFToExchange</td>\n      <td>b963bbc9-9283-11ed-8b08-047c16291a22</td>\n      <td>NewOrderRequest</td>\n      <td>OOOTO</td>\n      <td>69.37</td>\n      <td>TSX</td>\n    </tr>\n    <tr>\n      <th>2</th>\n      <td>2023-01-06 09:28:00.011117286</td>\n      <td>2023-01-06 14:28:00.011117286</td>\n      <td>ExchangeToNBF</td>\n      <td>b963bbc8-9283-11ed-9ad4-047c16291a22</td>\n      <td>NewOrderAcknowledged</td>\n      <td>OA14Y</td>\n      <td>61.56</td>\n      <td>TSX</td>\n    </tr>\n    <tr>\n      <th>3</th>\n      <td>2023-01-06 09:28:00.011125452</td>\n      <td>2023-01-06 14:28:00.011125452</td>\n      <td>NBFToExchange</td>\n      <td>b963bbca-9283-11ed-b19f-047c16291a22</td>\n      <td>CancelRequest</td>\n      <td>OA14Y</td>\n      <td>NaN</td>\n      <td>TSX</td>\n    </tr>\n    <tr>\n      <th>4</th>\n      <td>2023-01-06 09:28:00.011129285</td>\n      <td>2023-01-06 14:28:00.011129285</td>\n      <td>NBFToExchange</td>\n      <td>b963bbcb-9283-11ed-aba1-047c16291a22</td>\n      <td>NewOrderRequest</td>\n      <td>NQGAH</td>\n      <td>73.20</td>\n      <td>TSX</td>\n    </tr>\n  </tbody>\n</table>\n</div>"
     },
     "execution_count": 3,
     "metadata": {},
     "output_type": "execute_result"
    }
   ],
   "source": [
    "df = pd.read_json(\"data/TSXData.json\")\n",
    "df.head()"
   ],
   "metadata": {
    "collapsed": false
   }
  },
  {
   "cell_type": "code",
   "execution_count": 4,
   "outputs": [
    {
     "data": {
      "text/plain": "(array([5.6782e+04, 2.6831e+04, 1.1450e+03, 1.6720e+03, 1.8000e+01,\n        0.0000e+00, 0.0000e+00, 1.0000e+01, 0.0000e+00, 4.0000e+00]),\n array([  0.   ,  69.119, 138.238, 207.357, 276.476, 345.595, 414.714,\n        483.833, 552.952, 622.071, 691.19 ]),\n <BarContainer object of 10 artists>)"
     },
     "execution_count": 4,
     "metadata": {},
     "output_type": "execute_result"
    },
    {
     "data": {
      "text/plain": "<Figure size 432x288 with 1 Axes>",
      "image/png": "[encoded data removed]"
     },
     "metadata": {
      "needs_background": "light"
     },
     "output_type": "display_data"
    }
   ],
   "source": [
    "plt.hist(df[\"OrderPrice\"])"
   ],
   "metadata": {
    "collapsed": false
   }
  },
  {
   "cell_type": "code",
   "execution_count": 5,
   "outputs": [
    {
     "data": {
      "text/plain": "(212222, 8)"
     },
     "execution_count": 5,
     "metadata": {},
     "output_type": "execute_result"
    }
   ],
   "source": [
    "df.shape"
   ],
   "metadata": {
    "collapsed": false
   }
  },
  {
   "cell_type": "code",
   "execution_count": null,
   "outputs": [],
   "source": [],
   "metadata": {
    "collapsed": false
   }
  },
  {
   "cell_type": "code",
   "execution_count": null,
   "outputs": [],
   "source": [],
   "metadata": {
    "collapsed": false
   }
  },
  {
   "cell_type": "code",
   "execution_count": null,
   "outputs": [],
   "source": [],
   "metadata": {
    "collapsed": false
   }
  },
  {
   "cell_type": "code",
   "execution_count": null,
   "outputs": [],
   "source": [],
   "metadata": {
    "collapsed": false
   }
  },
  {
   "cell_type": "code",
   "execution_count": null,
   "outputs": [],
   "source": [],
   "metadata": {
    "collapsed": false
   }
  },
  {
   "cell_type": "code",
   "execution_count": null,
   "outputs": [],
   "source": [],
   "metadata": {
    "collapsed": false
   }
  },
  {
   "cell_type": "code",
   "execution_count": null,
   "outputs": [],
   "source": [],
   "metadata": {
    "collapsed": false
   }
  }
 ],
 "metadata": {
  "kernelspec": {
   "display_name": "Python 3",
   "language": "python",
   "name": "python3"
  },
  "language_info": {
   "codemirror_mode": {
    "name": "ipython",
    "version": 2
   },
   "file_extension": ".py",
   "mimetype": "text/x-python",
   "name": "python",
   "nbconvert_exporter": "python",
   "pygments_lexer": "ipython2",
   "version": "2.7.6"
  }
 },
 "nbformat": 4,
 "nbformat_minor": 0
}
